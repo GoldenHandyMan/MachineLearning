{
 "cells": [
  {
   "cell_type": "code",
   "execution_count": 79,
   "metadata": {},
   "outputs": [],
   "source": [
    "def showlvl():\n",
    "    nextl = 250\n",
    "    a = .30\n",
    "    r = 40\n",
    "    print('[', end='')\n",
    "    for i in range(r):\n",
    "        if ((i)/r <= a):\n",
    "            print('|', end='')\n",
    "        else:\n",
    "            print('-', end='')\n",
    "    print(']', end='')\n",
    "    print(' ',int(a*nextl),'/',nextl,'exp')"
   ]
  },
  {
   "cell_type": "code",
   "execution_count": 80,
   "metadata": {},
   "outputs": [
    {
     "name": "stdout",
     "output_type": "stream",
     "text": [
      "[|||||||||||||---------------------------]  75 / 250 exp\n"
     ]
    }
   ],
   "source": [
    "showlvl()"
   ]
  },
  {
   "cell_type": "code",
   "execution_count": null,
   "metadata": {},
   "outputs": [],
   "source": []
  }
 ],
 "metadata": {
  "kernelspec": {
   "display_name": "Python 3",
   "language": "python",
   "name": "python3"
  },
  "language_info": {
   "codemirror_mode": {
    "name": "ipython",
    "version": 3
   },
   "file_extension": ".py",
   "mimetype": "text/x-python",
   "name": "python",
   "nbconvert_exporter": "python",
   "pygments_lexer": "ipython3",
   "version": "3.7.7"
  }
 },
 "nbformat": 4,
 "nbformat_minor": 4
}
